{
 "cells": [
  {
   "cell_type": "code",
   "execution_count": 6,
   "id": "22aa8178",
   "metadata": {},
   "outputs": [
    {
     "name": "stdout",
     "output_type": "stream",
     "text": [
      "tataaaggcaatatgcagtag\n",
      "uauaaaggcaauaugcaguag\n",
      "YKGNMQ*\n",
      "YKGNMQ*\n"
     ]
    }
   ],
   "source": [
    "from Bio.Seq import Seq\n",
    "\n",
    "example_seq = Seq('tataaaggcaatatgcagtag')\n",
    "print(example_seq)\n",
    "print(example_seq.transcribe())\n",
    "print(example_seq.translate())\n",
    "print(example_seq.transcribe().translate())"
   ]
  },
  {
   "cell_type": "code",
   "execution_count": 8,
   "id": "487a477c",
   "metadata": {},
   "outputs": [
    {
     "name": "stdout",
     "output_type": "stream",
     "text": [
      "5 2 33.33333333333333\n"
     ]
    }
   ],
   "source": [
    "from Bio.Seq import Seq\n",
    "\n",
    "example_seq = Seq('tataaaggcaatatgcagtag')\n",
    "g_count = example_seq.count('g')\n",
    "c_count = example_seq.count('c')\n",
    "gc_content = (g_count + c_count) / len(example_seq) *100\n",
    "print(g_count, c_count, gc_content)"
   ]
  },
  {
   "cell_type": "code",
   "execution_count": null,
   "id": "25237aca",
   "metadata": {},
   "outputs": [],
   "source": []
  }
 ],
 "metadata": {
  "kernelspec": {
   "display_name": "Python 3 (ipykernel)",
   "language": "python",
   "name": "python3"
  },
  "language_info": {
   "codemirror_mode": {
    "name": "ipython",
    "version": 3
   },
   "file_extension": ".py",
   "mimetype": "text/x-python",
   "name": "python",
   "nbconvert_exporter": "python",
   "pygments_lexer": "ipython3",
   "version": "3.8.2"
  }
 },
 "nbformat": 4,
 "nbformat_minor": 5
}
